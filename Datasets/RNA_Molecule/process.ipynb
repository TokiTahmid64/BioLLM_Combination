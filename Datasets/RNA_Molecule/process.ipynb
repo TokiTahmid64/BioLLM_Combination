{
 "cells": [
  {
   "cell_type": "code",
   "execution_count": 29,
   "metadata": {},
   "outputs": [],
   "source": [
    "import glob\n",
    "from docx import Document\n",
    "import pandas as pd\n",
    "doc_files_test = glob.glob('Testing/Raw_Files/*.docx')\n",
    "doc_files_train = glob.glob('Training/Raw_Files/*.docx')"
   ]
  },
  {
   "cell_type": "code",
   "execution_count": 32,
   "metadata": {},
   "outputs": [],
   "source": [
    "\n",
    "def get_processed_list(filename,train):\n",
    "    # Load the Word document\n",
    "    doc_path = filename\n",
    "    doc = Document(doc_path)\n",
    "\n",
    "    data = []\n",
    "    # Loop through each table in the Word document\n",
    "    for i, table in enumerate(doc.tables):\n",
    "        # Read the table row by row\n",
    "\n",
    "        for row in table.rows:\n",
    "            \n",
    "            row_data = []\n",
    "            for cell in row.cells:\n",
    "                row_data.append(cell.text)\n",
    "            data.append(row_data)\n",
    "    \n",
    "    curated_list=[]\n",
    "    for data_entry in data:\n",
    "        if 'SMILES' in data_entry:\n",
    "            continue\n",
    "        if len(data_entry)<7:\n",
    "            continue\n",
    "        #replace \\n with space\n",
    "        # print(data_entry)\n",
    "        data_entry = [x.replace('\\n', '') for x in data_entry]\n",
    "        compound= data_entry[1]\n",
    "        compound=compound.replace(' ', '')\n",
    "        if train:\n",
    "            protein= data_entry[2]\n",
    "        else:\n",
    "            protein= data_entry[5]\n",
    "        protein=protein.replace(' ', '')\n",
    "        label= data_entry[-1]\n",
    "        curated_list.append([compound, protein, label])\n",
    "    \n",
    "    return curated_list"
   ]
  },
  {
   "cell_type": "code",
   "execution_count": 28,
   "metadata": {},
   "outputs": [],
   "source": [
    "for file in doc_files_test:\n",
    "    curated_list = get_processed_list(file)\n",
    "    #save the curated list to a csv file\n",
    "    df = pd.DataFrame(curated_list, columns=['Compound', 'Protein', 'Label'])\n",
    "    # print(file)\n",
    "    df.to_csv('Testing/Curated_Files/'+file.split('\\\\')[-1].replace('.docx', '.csv'), index=False)\n",
    "    "
   ]
  },
  {
   "cell_type": "code",
   "execution_count": 33,
   "metadata": {},
   "outputs": [],
   "source": [
    "for file in doc_files_train:\n",
    "    curated_list = get_processed_list(file,train=True)\n",
    "    #save the curated list to a csv file\n",
    "    df = pd.DataFrame(curated_list, columns=['Compound', 'Protein', 'Label'])\n",
    "    # print(file)\n",
    "    df.to_csv('Training/Curated_Files/'+file.split('\\\\')[-1].replace('.docx', '.csv'), index=False)\n",
    "    "
   ]
  },
  {
   "cell_type": "code",
   "execution_count": null,
   "metadata": {},
   "outputs": [],
   "source": []
  }
 ],
 "metadata": {
  "kernelspec": {
   "display_name": "thesis",
   "language": "python",
   "name": "python3"
  },
  "language_info": {
   "codemirror_mode": {
    "name": "ipython",
    "version": 3
   },
   "file_extension": ".py",
   "mimetype": "text/x-python",
   "name": "python",
   "nbconvert_exporter": "python",
   "pygments_lexer": "ipython3",
   "version": "3.11.5"
  }
 },
 "nbformat": 4,
 "nbformat_minor": 2
}
