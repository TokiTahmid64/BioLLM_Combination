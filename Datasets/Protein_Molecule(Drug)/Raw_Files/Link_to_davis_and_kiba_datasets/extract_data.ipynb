{
 "cells": [
  {
   "cell_type": "code",
   "execution_count": 17,
   "metadata": {},
   "outputs": [
    {
     "data": {
      "text/plain": [
       "(68, 442)"
      ]
     },
     "execution_count": 17,
     "metadata": {},
     "output_type": "execute_result"
    }
   ],
   "source": [
    "import pickle\n",
    "import numpy as np\n",
    "import pandas as pd\n",
    "import json\n",
    "\n",
    "Y = pickle.load(open(\"C:/Research/MultiModal_Biological_LLM/Datasets/Protein_Molecule(Drug)/Raw_Files/Link_to_davis_and_kiba_datasets/DeepDTA/data/davis/Y\", \"rb\"),encoding='latin1')  # Y = pickle.load(open(\"Y\", \"rb\"), encoding='latin1')\n",
    "label_row_inds, label_col_inds = np.where(np.isnan(Y)==False)\n",
    "Y.shape"
   ]
  },
  {
   "cell_type": "code",
   "execution_count": 18,
   "metadata": {},
   "outputs": [
    {
     "data": {
      "text/plain": [
       "483419"
      ]
     },
     "execution_count": 18,
     "metadata": {},
     "output_type": "execute_result"
    }
   ],
   "source": [
    "2111*229"
   ]
  },
  {
   "cell_type": "code",
   "execution_count": 19,
   "metadata": {},
   "outputs": [
    {
     "data": {
      "text/plain": [
       "0"
      ]
     },
     "execution_count": 19,
     "metadata": {},
     "output_type": "execute_result"
    }
   ],
   "source": [
    "#check if there are any missing values\n",
    "np.isnan(Y).sum()"
   ]
  },
  {
   "cell_type": "code",
   "execution_count": null,
   "metadata": {},
   "outputs": [],
   "source": []
  },
  {
   "cell_type": "code",
   "execution_count": 25,
   "metadata": {},
   "outputs": [],
   "source": [
    "with open(\"C:/Research/MultiModal_Biological_LLM/Datasets/Protein_Molecule(Drug)/Raw_Files/Link_to_davis_and_kiba_datasets/DeepDTA/data/davis/proteins.json\", \"r\") as f:\n",
    "    proteins = json.load(f)\n",
    "\n",
    "with open(\"C:/Research/MultiModal_Biological_LLM/Datasets/Protein_Molecule(Drug)/Raw_Files/Link_to_davis_and_kiba_datasets/DeepDTA/data/davis/ligands_can.json\", \"r\") as f:\n",
    "    compounds_can = json.load(f)\n",
    "\n",
    "with open(\"C:/Research/MultiModal_Biological_LLM/Datasets/Protein_Molecule(Drug)/Raw_Files/Link_to_davis_and_kiba_datasets/DeepDTA/data/davis/ligands_iso.json\", \"r\") as f:\n",
    "    compounds_iso = json.load(f)"
   ]
  },
  {
   "cell_type": "code",
   "execution_count": 26,
   "metadata": {},
   "outputs": [
    {
     "data": {
      "text/plain": [
       "(442, 68, 68)"
      ]
     },
     "execution_count": 26,
     "metadata": {},
     "output_type": "execute_result"
    }
   ],
   "source": [
    "len(proteins), len(compounds_can), len(compounds_iso)"
   ]
  },
  {
   "cell_type": "code",
   "execution_count": 27,
   "metadata": {},
   "outputs": [],
   "source": [
    "compounds_list=[]\n",
    "#iterate the dictionary\n",
    "for key, value in compounds_can.items():\n",
    "    compounds_list.append(value)\n",
    "\n",
    "proteins_list=[]\n",
    "#iterate the dictionary\n",
    "for key, value in proteins.items():\n",
    "    proteins_list.append(value)"
   ]
  },
  {
   "cell_type": "code",
   "execution_count": 28,
   "metadata": {},
   "outputs": [],
   "source": [
    "def get_prot_drug_affinity(proteins,compounds_can,Y):\n",
    "    curated_list=[]\n",
    "    for i in range(len(compounds_can)):\n",
    "        for j in range(len(proteins)):\n",
    "            if Y[i,j] is not None and not np.isnan(Y[i,j]):\n",
    "                curated_list.append([compounds_can[i],proteins[j],Y[i,j]])\n",
    "            \n",
    "            \n",
    "\n",
    "    return curated_list"
   ]
  },
  {
   "cell_type": "code",
   "execution_count": 29,
   "metadata": {},
   "outputs": [],
   "source": [
    "curated_list=get_prot_drug_affinity(proteins_list,compounds_list,Y)   "
   ]
  },
  {
   "cell_type": "code",
   "execution_count": 30,
   "metadata": {},
   "outputs": [],
   "source": [
    "# save the curated list as a csv file\n",
    "df = pd.DataFrame(curated_list, columns = ['Drug', 'Protein', 'Affinity'])\n",
    "df.to_csv(r\"C:\\Research\\MultiModal_Biological_LLM\\Datasets\\Protein_Molecule(Drug)\\Processed_Files\\curated_list_davis.csv\", index=False)\n"
   ]
  }
 ],
 "metadata": {
  "kernelspec": {
   "display_name": "thesis",
   "language": "python",
   "name": "python3"
  },
  "language_info": {
   "codemirror_mode": {
    "name": "ipython",
    "version": 3
   },
   "file_extension": ".py",
   "mimetype": "text/x-python",
   "name": "python",
   "nbconvert_exporter": "python",
   "pygments_lexer": "ipython3",
   "version": "3.11.5"
  }
 },
 "nbformat": 4,
 "nbformat_minor": 2
}
